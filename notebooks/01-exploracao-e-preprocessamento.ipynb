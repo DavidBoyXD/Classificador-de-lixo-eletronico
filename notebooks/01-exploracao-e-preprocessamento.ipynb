{
 "cells": [
  {
   "cell_type": "markdown",
   "metadata": {},
   "source": [
    "# 1. Exploração e Pré-processamento dos Dados"
   ]
  },
  {
   "cell_type": "markdown",
   "metadata": {},
   "source": [
    "Neste notebook, vamos explorar o dataset de imagens de lixo eletrônico e aplicar as primeiras etapas de pré-processamento."
   ]
  },
  {
   "cell_type": "markdown",
   "metadata": {},
   "source": [
    "## 1.1. Importação das Bibliotecas"
   ]
  },
  {
   "cell_type": "code",
   "execution_count": null,
   "metadata": {},
   "outputs": [],
   "source": [
    "import os\n",
    "import cv2\n",
    "import numpy as np\n",
    "import matplotlib.pyplot as plt\n",
    "import yaml"
   ]
  },
  {
   "cell_type": "markdown",
   "metadata": {},
   "source": [
    "## 1.2. Carregando as Configurações do Dataset"
   ]
  },
  {
   "cell_type": "code",
   "execution_count": null,
   "metadata": {},
   "outputs": [],
   "source": [
    "DATASET_PATH = '../dataset/\n",
    "DATA_YAML_PATH = os.path.join(DATASET_PATH, 'data.yaml')\n",
    "\n",
    "with open(DATA_YAML_PATH, 'r') as file:\n",
    "    data_config = yaml.safe_load(file)\n",
    "\n",
    "print(\"Configurações do dataset:\")\n",
    "print(data_config)"
   ]
  },
  {
   "cell_type": "markdown",
   "metadata": {},
   "source": [
    "## 1.3. Exploração das Imagens"
   ]
  },
  {
   "cell_type": "markdown",
   "metadata": {},
   "source": [
    "Vamos carregar e visualizar algumas imagens dos conjuntos de treino, validação e teste para entender suas características."
   ]
  },
  {
   "cell_type": "code",
   "execution_count": null,
   "metadata": {},
   "outputs": [],
   "source": [
    "def display_sample_images(image_folder, num_images=3):\n",
    "    plt.figure(figsize=(15, 5))\n",
    "    image_files = [f for f in os.listdir(image_folder) if f.endswith(('.jpg', '.jpeg', '.png'))][:num_images]\n",
    "    \n",
    "    for i, image_file in enumerate(image_files):\n",
    "        img_path = os.path.join(image_folder, image_file)\n",
    "        img = cv2.imread(img_path)\n",
    "        img = cv2.cvtColor(img, cv2.COLOR_BGR2RGB) # Converter de BGR para RGB para Matplotlib\n",
    "        \n",
    "        plt.subplot(1, num_images, i + 1)\n",
    "        plt.imshow(img)\n",
    "        plt.title(f'Imagem {i+1}')\n",
    "        plt.axis('off')\n",
    "        \n",
    "    plt.show()\n",
    "\n",
    "print(\"Amostras do conjunto de treino:\")\n",
    "display_sample_images(os.path.join(DATASET_PATH, data_config['train']))\n",
    "\n",
    "print(\"\nAmostras do conjunto de validação:\")\n",
    "display_sample_images(os.path.join(DATASET_PATH, data_config['val']))\n",
    "\n",
    "print(\"\nAmostras do conjunto de teste:\")\n",
    "display_sample_images(os.path.join(DATASET_PATH, data_config['test']))"
   ]
  }
 ],
 "metadata": {
  "kernelspec": {
   "display_name": "Python 3",
   "language": "python",
   "name": "python3"
  },
  "language_info": {
   "name": "python",
   "version": "3.9.6"
  }
 },
 "nbformat": 4,
 "nbformat_minor": 4
}